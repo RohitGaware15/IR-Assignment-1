{
  "nbformat": 4,
  "nbformat_minor": 0,
  "metadata": {
    "colab": {
      "provenance": []
    },
    "kernelspec": {
      "name": "python3",
      "display_name": "Python 3"
    },
    "language_info": {
      "name": "python"
    }
  },
  "cells": [
    {
      "cell_type": "code",
      "execution_count": null,
      "metadata": {
        "id": "DHREPotl-IlG"
      },
      "outputs": [],
      "source": [
        "import nltk\n",
        "from nltk.tokenize import word_tokenize\n",
        "from nltk.corpus import stopwords"
      ]
    },
    {
      "cell_type": "code",
      "source": [
        "nltk.download('punkt')\n",
        "nltk.download('stopwords')"
      ],
      "metadata": {
        "colab": {
          "base_uri": "https://localhost:8080/"
        },
        "id": "IBXD8H1j-W_k",
        "outputId": "e7564e3d-87ed-4694-8d1a-2da75323707a"
      },
      "execution_count": null,
      "outputs": [
        {
          "output_type": "stream",
          "name": "stderr",
          "text": [
            "[nltk_data] Downloading package punkt to /root/nltk_data...\n",
            "[nltk_data]   Unzipping tokenizers/punkt.zip.\n",
            "[nltk_data] Downloading package stopwords to /root/nltk_data...\n",
            "[nltk_data]   Unzipping corpora/stopwords.zip.\n"
          ]
        },
        {
          "output_type": "execute_result",
          "data": {
            "text/plain": [
              "True"
            ]
          },
          "metadata": {},
          "execution_count": 2
        }
      ]
    },
    {
      "cell_type": "code",
      "source": [
        "text = \"\"\"\n",
        "The playful kitten chased the butterfly through the garden, its tiny paws barely touching the ground. The sun shone brightly, casting dancing shadows on the blooming flowers.\n",
        "\"\"\""
      ],
      "metadata": {
        "id": "Z8OJzRWV_iCv"
      },
      "execution_count": null,
      "outputs": []
    },
    {
      "cell_type": "code",
      "source": [
        "# 1. Tokenization"
      ],
      "metadata": {
        "id": "R-2QPHao_m2l"
      },
      "execution_count": null,
      "outputs": []
    },
    {
      "cell_type": "code",
      "source": [
        "tokens = word_tokenize(text)"
      ],
      "metadata": {
        "id": "i2HF06jW_wiN"
      },
      "execution_count": null,
      "outputs": []
    },
    {
      "cell_type": "code",
      "source": [
        "print(tokens)"
      ],
      "metadata": {
        "colab": {
          "base_uri": "https://localhost:8080/"
        },
        "id": "u72VrP36_3fn",
        "outputId": "fa5f596f-0465-43ec-abab-775fd8e9b818"
      },
      "execution_count": null,
      "outputs": [
        {
          "output_type": "stream",
          "name": "stdout",
          "text": [
            "['The', 'playful', 'kitten', 'chased', 'the', 'butterfly', 'through', 'the', 'garden', ',', 'its', 'tiny', 'paws', 'barely', 'touching', 'the', 'ground', '.', 'The', 'sun', 'shone', 'brightly', ',', 'casting', 'dancing', 'shadows', 'on', 'the', 'blooming', 'flowers', '.']\n"
          ]
        }
      ]
    },
    {
      "cell_type": "code",
      "source": [
        "# 2. Normalization"
      ],
      "metadata": {
        "id": "sg8j1-wu_8H9"
      },
      "execution_count": null,
      "outputs": []
    },
    {
      "cell_type": "code",
      "source": [
        "norm_tokens = [word.lower() for word in tokens]"
      ],
      "metadata": {
        "id": "YT_Hov72AITZ"
      },
      "execution_count": null,
      "outputs": []
    },
    {
      "cell_type": "code",
      "source": [
        "print(norm_tokens)"
      ],
      "metadata": {
        "colab": {
          "base_uri": "https://localhost:8080/"
        },
        "id": "vb5P8NWWAZNY",
        "outputId": "ed493fee-b927-420a-a36e-723f7416370f"
      },
      "execution_count": null,
      "outputs": [
        {
          "output_type": "stream",
          "name": "stdout",
          "text": [
            "['the', 'playful', 'kitten', 'chased', 'the', 'butterfly', 'through', 'the', 'garden', ',', 'its', 'tiny', 'paws', 'barely', 'touching', 'the', 'ground', '.', 'the', 'sun', 'shone', 'brightly', ',', 'casting', 'dancing', 'shadows', 'on', 'the', 'blooming', 'flowers', '.']\n"
          ]
        }
      ]
    },
    {
      "cell_type": "code",
      "source": [
        "# 3. Stemming"
      ],
      "metadata": {
        "id": "T48CiPhXAbi8"
      },
      "execution_count": null,
      "outputs": []
    },
    {
      "cell_type": "code",
      "source": [
        "from nltk.stem import PorterStemmer"
      ],
      "metadata": {
        "id": "HuqOa2_RCGtM"
      },
      "execution_count": null,
      "outputs": []
    },
    {
      "cell_type": "code",
      "source": [
        "ps = PorterStemmer()"
      ],
      "metadata": {
        "id": "3mX5YS_fCfC2"
      },
      "execution_count": null,
      "outputs": []
    },
    {
      "cell_type": "code",
      "source": [
        "stem_token = [ps.stem(word) for word in tokens]"
      ],
      "metadata": {
        "id": "mK1FKEndCkXc"
      },
      "execution_count": null,
      "outputs": []
    },
    {
      "cell_type": "code",
      "source": [
        "print(stem_token)"
      ],
      "metadata": {
        "colab": {
          "base_uri": "https://localhost:8080/"
        },
        "id": "23BKpdbxDCoy",
        "outputId": "2eb74c31-82b9-46af-e051-069477437a70"
      },
      "execution_count": null,
      "outputs": [
        {
          "output_type": "stream",
          "name": "stdout",
          "text": [
            "['the', 'play', 'kitten', 'chase', 'the', 'butterfli', 'through', 'the', 'garden', ',', 'it', 'tini', 'paw', 'bare', 'touch', 'the', 'ground', '.', 'the', 'sun', 'shone', 'brightli', ',', 'cast', 'danc', 'shadow', 'on', 'the', 'bloom', 'flower', '.']\n"
          ]
        }
      ]
    },
    {
      "cell_type": "code",
      "source": [
        "# 4. Removal of Stopwords"
      ],
      "metadata": {
        "id": "_WyWLjIdGuKx"
      },
      "execution_count": null,
      "outputs": []
    },
    {
      "cell_type": "code",
      "source": [
        "stop_word = set(stopwords.words('english'))"
      ],
      "metadata": {
        "id": "TOTDabh5G5tp"
      },
      "execution_count": null,
      "outputs": []
    },
    {
      "cell_type": "code",
      "source": [
        "stop_word_tokens = [word for word in stem_token if word not in stop_word]"
      ],
      "metadata": {
        "id": "jcgnT1c2HGy1"
      },
      "execution_count": null,
      "outputs": []
    },
    {
      "cell_type": "code",
      "source": [
        "print(stop_word_tokens)"
      ],
      "metadata": {
        "colab": {
          "base_uri": "https://localhost:8080/"
        },
        "id": "bluEBftVHaO0",
        "outputId": "cd52a43b-849a-4350-ea52-463a5e8de025"
      },
      "execution_count": null,
      "outputs": [
        {
          "output_type": "stream",
          "name": "stdout",
          "text": [
            "['play', 'kitten', 'chase', 'butterfli', 'garden', ',', 'tini', 'paw', 'bare', 'touch', 'ground', '.', 'sun', 'shone', 'brightli', ',', 'cast', 'danc', 'shadow', 'bloom', 'flower', '.']\n"
          ]
        }
      ]
    },
    {
      "cell_type": "code",
      "source": [],
      "metadata": {
        "id": "n9KBT8IXHdjk"
      },
      "execution_count": null,
      "outputs": []
    }
  ]
}